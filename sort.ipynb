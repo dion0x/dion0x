{
  "metadata": {
    "kernelspec": {
      "name": "python",
      "display_name": "Python (Pyodide)",
      "language": "python"
    },
    "language_info": {
      "codemirror_mode": {
        "name": "python",
        "version": 3
      },
      "file_extension": ".py",
      "mimetype": "text/x-python",
      "name": "python",
      "nbconvert_exporter": "python",
      "pygments_lexer": "ipython3",
      "version": "3.8"
    }
  },
  "nbformat_minor": 4,
  "nbformat": 4,
  "cells": [
    {
      "cell_type": "code",
      "source": "# bubble sort\ndef bubble(arry):\n    n=len(arry)\n    for i in range(n):\n        for j in range(0,n-i-1):\n            if arry[j]>arry[j+1]:\n                arry[j],arry[j+1] = arry[j+1],arry[j]\nlist = [3,4,5,9,8,7,6,1]\nbubble(list)\nprint(list)",
      "metadata": {
        "trusted": true
      },
      "outputs": [
        {
          "name": "stdout",
          "text": "[1, 3, 4, 5, 6, 7, 8, 9]\n",
          "output_type": "stream"
        }
      ],
      "execution_count": 1
    },
    {
      "cell_type": "code",
      "source": "# selection sort\ndef selection(arry):\n    n=len(arry)\n    for i in range(n):\n        min_index = i\n        for j in range(i+1,n):\n            if arry[j]<arry[min_index]:\n                min_index=j\n        arry[i],arry[min_index] = arry[min_index],arry[i]\n\nlist = [3,6,5,4,7,8,9,1,2]\nselection(list)\nprint(list)",
      "metadata": {
        "trusted": true
      },
      "outputs": [
        {
          "name": "stdout",
          "text": "[1, 2, 3, 4, 5, 6, 7, 8, 9]\n",
          "output_type": "stream"
        }
      ],
      "execution_count": 34
    },
    {
      "cell_type": "code",
      "source": "# insertion sort\n\ndef insertion(arry):\n    n = len(arry)\n    for i in range(1,n):\n        key = arry[i]\n        j=i-1\n        while j>=0 and key<arry[j]:\n            arry[j+1]=arry[j] # swap\n            j-=1\n            arry[j+1]=key\nlist=[9,8,7,6,5,3,2,1,4]\ninsertion(list)\nprint(list)",
      "metadata": {
        "trusted": true
      },
      "outputs": [
        {
          "name": "stdout",
          "text": "[1, 2, 3, 4, 5, 6, 7, 8, 9]\n",
          "output_type": "stream"
        }
      ],
      "execution_count": 7
    },
    {
      "cell_type": "code",
      "source": "def insertion(arry):\n    n = len(arry)\n    for i in range(1,n):\n        j = i\n        while j>0 and  arry[j] < arry[j-1]:\n            arry[j-1],arry[j]=arry[j],arry[j-1]\n            j -= 1\nlist=[9,8,7,6,5,3,2,1,4]\ninsertion(list)\nprint(list)            ",
      "metadata": {
        "trusted": true
      },
      "outputs": [
        {
          "name": "stdout",
          "text": "[1, 2, 3, 4, 5, 6, 7, 8, 9]\n",
          "output_type": "stream"
        }
      ],
      "execution_count": 17
    },
    {
      "cell_type": "code",
      "source": "def merge_sort(arry):\n    n = len(arry)\n    if n > 1:\n        left = arry[:n//2]\n        right = arry[n//2:]\n\n        merge_sort(left)\n        merge_sort(right)\n\n        i = j = k = 0\n        while i < len(left) and j < len(right):\n            if left[i] < right[j]:\n                arry[k] = left[i]\n                i += 1\n            else:\n                arry[k] = right[j]\n                j += 1\n            k += 1\n\n        while i < len(left):\n            arry[k] = left[i]\n            i += 1\n            k += 1\n\n        while j < len(right):\n            arry[k] = right[j]\n            j += 1\n            k += 1\n\n# Example usage:\nmy_list = [9, 6, 3, 2, 5, 8, 7, 4, 1, 0]\nmerge_sort(my_list)\nprint(my_list)\n",
      "metadata": {
        "trusted": true
      },
      "outputs": [
        {
          "name": "stdout",
          "text": "[0, 1, 2, 3, 4, 5, 6, 7, 8, 9]\n",
          "output_type": "stream"
        }
      ],
      "execution_count": 23
    },
    {
      "cell_type": "code",
      "source": "def quick(arry, left, right):\n    if left < right:\n        part = partition(arry, left, right)\n        quick(arry, left, part - 1)\n        quick(arry, part + 1, right)\n\ndef partition(arry, left, right):\n    i = left\n    j = right - 1\n    pivot = arry[right]\n    while i <= j:\n        while i <= j and arry[i] < pivot:\n            i += 1\n        while j >= left and arry[j] > pivot:\n            j -= 1\n        if i < j:\n            arry[i], arry[j] = arry[j], arry[i]\n            i += 1\n            j -= 1\n\n    arry[i], arry[right] = arry[right], arry[i]\n    return i\n\n# Example usage:\nmy_list = [9, 8, 6, 3, 2, 5, 2, 1]\nquick(my_list, 0, len(my_list) - 1)\nprint(my_list)\n",
      "metadata": {
        "trusted": true
      },
      "outputs": [
        {
          "name": "stdout",
          "text": "[1, 2, 2, 3, 5, 6, 8, 9]\n",
          "output_type": "stream"
        }
      ],
      "execution_count": 28
    },
    {
      "cell_type": "code",
      "source": "",
      "metadata": {
        "trusted": true
      },
      "outputs": [],
      "execution_count": null
    }
  ]
}